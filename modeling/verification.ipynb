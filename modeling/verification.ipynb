{
 "cells": [
  {
   "cell_type": "code",
   "execution_count": 20,
   "metadata": {},
   "outputs": [],
   "source": [
    "import pandas as pd\n",
    "import matplotlib.pyplot as plt\n",
    "sales = pd.read_excel('combustion_sales.xlsx')"
   ]
  },
  {
   "cell_type": "code",
   "execution_count": 21,
   "metadata": {},
   "outputs": [
    {
     "name": "stdout",
     "output_type": "stream",
     "text": [
      "23\n"
     ]
    },
    {
     "data": {
      "text/html": [
       "<div>\n",
       "<style scoped>\n",
       "    .dataframe tbody tr th:only-of-type {\n",
       "        vertical-align: middle;\n",
       "    }\n",
       "\n",
       "    .dataframe tbody tr th {\n",
       "        vertical-align: top;\n",
       "    }\n",
       "\n",
       "    .dataframe thead th {\n",
       "        text-align: right;\n",
       "    }\n",
       "</style>\n",
       "<table border=\"1\" class=\"dataframe\">\n",
       "  <thead>\n",
       "    <tr style=\"text-align: right;\">\n",
       "      <th></th>\n",
       "      <th>Year</th>\n",
       "      <th>Combustion</th>\n",
       "    </tr>\n",
       "  </thead>\n",
       "  <tbody>\n",
       "    <tr>\n",
       "      <th>24</th>\n",
       "      <td>2000</td>\n",
       "      <td>17349.7</td>\n",
       "    </tr>\n",
       "    <tr>\n",
       "      <th>25</th>\n",
       "      <td>2001</td>\n",
       "      <td>17122.4</td>\n",
       "    </tr>\n",
       "    <tr>\n",
       "      <th>26</th>\n",
       "      <td>2002</td>\n",
       "      <td>16816.2</td>\n",
       "    </tr>\n",
       "    <tr>\n",
       "      <th>27</th>\n",
       "      <td>2003</td>\n",
       "      <td>16639.1</td>\n",
       "    </tr>\n",
       "    <tr>\n",
       "      <th>28</th>\n",
       "      <td>2004</td>\n",
       "      <td>16866.9</td>\n",
       "    </tr>\n",
       "    <tr>\n",
       "      <th>29</th>\n",
       "      <td>2005</td>\n",
       "      <td>16948.2</td>\n",
       "    </tr>\n",
       "    <tr>\n",
       "      <th>30</th>\n",
       "      <td>2006</td>\n",
       "      <td>16504.1</td>\n",
       "    </tr>\n",
       "    <tr>\n",
       "      <th>31</th>\n",
       "      <td>2007</td>\n",
       "      <td>16089.0</td>\n",
       "    </tr>\n",
       "    <tr>\n",
       "      <th>32</th>\n",
       "      <td>2008</td>\n",
       "      <td>13194.8</td>\n",
       "    </tr>\n",
       "    <tr>\n",
       "      <th>33</th>\n",
       "      <td>2009</td>\n",
       "      <td>10402.3</td>\n",
       "    </tr>\n",
       "    <tr>\n",
       "      <th>34</th>\n",
       "      <td>2010</td>\n",
       "      <td>11554.8</td>\n",
       "    </tr>\n",
       "    <tr>\n",
       "      <th>35</th>\n",
       "      <td>2011</td>\n",
       "      <td>12741.8</td>\n",
       "    </tr>\n",
       "    <tr>\n",
       "      <th>36</th>\n",
       "      <td>2012</td>\n",
       "      <td>14433.2</td>\n",
       "    </tr>\n",
       "    <tr>\n",
       "      <th>37</th>\n",
       "      <td>2013</td>\n",
       "      <td>15530.1</td>\n",
       "    </tr>\n",
       "    <tr>\n",
       "      <th>38</th>\n",
       "      <td>2014</td>\n",
       "      <td>16452.2</td>\n",
       "    </tr>\n",
       "    <tr>\n",
       "      <th>39</th>\n",
       "      <td>2015</td>\n",
       "      <td>17408.0</td>\n",
       "    </tr>\n",
       "    <tr>\n",
       "      <th>40</th>\n",
       "      <td>2016</td>\n",
       "      <td>17477.3</td>\n",
       "    </tr>\n",
       "    <tr>\n",
       "      <th>41</th>\n",
       "      <td>2017</td>\n",
       "      <td>17150.1</td>\n",
       "    </tr>\n",
       "    <tr>\n",
       "      <th>42</th>\n",
       "      <td>2018</td>\n",
       "      <td>17224.9</td>\n",
       "    </tr>\n",
       "    <tr>\n",
       "      <th>43</th>\n",
       "      <td>2019</td>\n",
       "      <td>16961.1</td>\n",
       "    </tr>\n",
       "    <tr>\n",
       "      <th>44</th>\n",
       "      <td>2020</td>\n",
       "      <td>14471.8</td>\n",
       "    </tr>\n",
       "    <tr>\n",
       "      <th>45</th>\n",
       "      <td>2021</td>\n",
       "      <td>14946.9</td>\n",
       "    </tr>\n",
       "    <tr>\n",
       "      <th>46</th>\n",
       "      <td>2022</td>\n",
       "      <td>13754.3</td>\n",
       "    </tr>\n",
       "  </tbody>\n",
       "</table>\n",
       "</div>"
      ],
      "text/plain": [
       "    Year  Combustion\n",
       "24  2000     17349.7\n",
       "25  2001     17122.4\n",
       "26  2002     16816.2\n",
       "27  2003     16639.1\n",
       "28  2004     16866.9\n",
       "29  2005     16948.2\n",
       "30  2006     16504.1\n",
       "31  2007     16089.0\n",
       "32  2008     13194.8\n",
       "33  2009     10402.3\n",
       "34  2010     11554.8\n",
       "35  2011     12741.8\n",
       "36  2012     14433.2\n",
       "37  2013     15530.1\n",
       "38  2014     16452.2\n",
       "39  2015     17408.0\n",
       "40  2016     17477.3\n",
       "41  2017     17150.1\n",
       "42  2018     17224.9\n",
       "43  2019     16961.1\n",
       "44  2020     14471.8\n",
       "45  2021     14946.9\n",
       "46  2022     13754.3"
      ]
     },
     "execution_count": 21,
     "metadata": {},
     "output_type": "execute_result"
    }
   ],
   "source": [
    "sales = sales.loc[sales['Year'] >= 2000]\n",
    "sales = sales.loc[sales['Year'] <= 2023]\n",
    "print(len(sales))\n",
    "sales"
   ]
  },
  {
   "cell_type": "code",
   "execution_count": 17,
   "metadata": {},
   "outputs": [
    {
     "name": "stdout",
     "output_type": "stream",
     "text": [
      "23\n",
      "24\n"
     ]
    },
    {
     "ename": "ValueError",
     "evalue": "Length of values (24) does not match length of index (23)",
     "output_type": "error",
     "traceback": [
      "\u001b[1;31m---------------------------------------------------------------------------\u001b[0m",
      "\u001b[1;31mValueError\u001b[0m                                Traceback (most recent call last)",
      "\u001b[1;32mc:\\Users\\dalli\\source\\acme_senior\\projectV4\\EVAdoption\\verification.ipynb Cell 3\u001b[0m line \u001b[0;36m1\n\u001b[0;32m      <a href='vscode-notebook-cell:/c%3A/Users/dalli/source/acme_senior/projectV4/EVAdoption/verification.ipynb#W2sZmlsZQ%3D%3D?line=7'>8</a>\u001b[0m electric \u001b[39m=\u001b[39m pd\u001b[39m.\u001b[39mSeries([\u001b[39m0\u001b[39m, \u001b[39m0\u001b[39m, \u001b[39m0\u001b[39m, \u001b[39m0\u001b[39m, \u001b[39m0\u001b[39m, \u001b[39m0\u001b[39m, \u001b[39m0\u001b[39m, \u001b[39m0\u001b[39m, \u001b[39m0\u001b[39m, \u001b[39m0\u001b[39m, \u001b[39m0\u001b[39m, \u001b[39m10\u001b[39m, \u001b[39m15\u001b[39m, \u001b[39m40\u001b[39m, \u001b[39m60\u001b[39m, \u001b[39m70\u001b[39m, \u001b[39m90\u001b[39m, \u001b[39m105\u001b[39m, \u001b[39m205\u001b[39m, \u001b[39m230\u001b[39m, \u001b[39m240\u001b[39m, \u001b[39m460\u001b[39m, \u001b[39m668\u001b[39m, \u001b[39m810\u001b[39m])\n\u001b[0;32m      <a href='vscode-notebook-cell:/c%3A/Users/dalli/source/acme_senior/projectV4/EVAdoption/verification.ipynb#W2sZmlsZQ%3D%3D?line=8'>9</a>\u001b[0m \u001b[39mprint\u001b[39m(\u001b[39mlen\u001b[39m(electric))\n\u001b[1;32m---> <a href='vscode-notebook-cell:/c%3A/Users/dalli/source/acme_senior/projectV4/EVAdoption/verification.ipynb#W2sZmlsZQ%3D%3D?line=9'>10</a>\u001b[0m sales[\u001b[39m\"\u001b[39;49m\u001b[39mElectric\u001b[39;49m\u001b[39m\"\u001b[39;49m] \u001b[39m=\u001b[39m electric\u001b[39m.\u001b[39mvalues\n\u001b[0;32m     <a href='vscode-notebook-cell:/c%3A/Users/dalli/source/acme_senior/projectV4/EVAdoption/verification.ipynb#W2sZmlsZQ%3D%3D?line=11'>12</a>\u001b[0m sales\u001b[39m.\u001b[39mhead()\n",
      "File \u001b[1;32mc:\\Users\\dalli\\anaconda3\\lib\\site-packages\\pandas\\core\\frame.py:3612\u001b[0m, in \u001b[0;36mDataFrame.__setitem__\u001b[1;34m(self, key, value)\u001b[0m\n\u001b[0;32m   3609\u001b[0m     \u001b[39mself\u001b[39m\u001b[39m.\u001b[39m_setitem_array([key], value)\n\u001b[0;32m   3610\u001b[0m \u001b[39melse\u001b[39;00m:\n\u001b[0;32m   3611\u001b[0m     \u001b[39m# set column\u001b[39;00m\n\u001b[1;32m-> 3612\u001b[0m     \u001b[39mself\u001b[39;49m\u001b[39m.\u001b[39;49m_set_item(key, value)\n",
      "File \u001b[1;32mc:\\Users\\dalli\\anaconda3\\lib\\site-packages\\pandas\\core\\frame.py:3784\u001b[0m, in \u001b[0;36mDataFrame._set_item\u001b[1;34m(self, key, value)\u001b[0m\n\u001b[0;32m   3774\u001b[0m \u001b[39mdef\u001b[39;00m \u001b[39m_set_item\u001b[39m(\u001b[39mself\u001b[39m, key, value) \u001b[39m-\u001b[39m\u001b[39m>\u001b[39m \u001b[39mNone\u001b[39;00m:\n\u001b[0;32m   3775\u001b[0m \u001b[39m    \u001b[39m\u001b[39m\"\"\"\u001b[39;00m\n\u001b[0;32m   3776\u001b[0m \u001b[39m    Add series to DataFrame in specified column.\u001b[39;00m\n\u001b[0;32m   3777\u001b[0m \n\u001b[1;32m   (...)\u001b[0m\n\u001b[0;32m   3782\u001b[0m \u001b[39m    ensure homogeneity.\u001b[39;00m\n\u001b[0;32m   3783\u001b[0m \u001b[39m    \"\"\"\u001b[39;00m\n\u001b[1;32m-> 3784\u001b[0m     value \u001b[39m=\u001b[39m \u001b[39mself\u001b[39;49m\u001b[39m.\u001b[39;49m_sanitize_column(value)\n\u001b[0;32m   3786\u001b[0m     \u001b[39mif\u001b[39;00m (\n\u001b[0;32m   3787\u001b[0m         key \u001b[39min\u001b[39;00m \u001b[39mself\u001b[39m\u001b[39m.\u001b[39mcolumns\n\u001b[0;32m   3788\u001b[0m         \u001b[39mand\u001b[39;00m value\u001b[39m.\u001b[39mndim \u001b[39m==\u001b[39m \u001b[39m1\u001b[39m\n\u001b[0;32m   3789\u001b[0m         \u001b[39mand\u001b[39;00m \u001b[39mnot\u001b[39;00m is_extension_array_dtype(value)\n\u001b[0;32m   3790\u001b[0m     ):\n\u001b[0;32m   3791\u001b[0m         \u001b[39m# broadcast across multiple columns if necessary\u001b[39;00m\n\u001b[0;32m   3792\u001b[0m         \u001b[39mif\u001b[39;00m \u001b[39mnot\u001b[39;00m \u001b[39mself\u001b[39m\u001b[39m.\u001b[39mcolumns\u001b[39m.\u001b[39mis_unique \u001b[39mor\u001b[39;00m \u001b[39misinstance\u001b[39m(\u001b[39mself\u001b[39m\u001b[39m.\u001b[39mcolumns, MultiIndex):\n",
      "File \u001b[1;32mc:\\Users\\dalli\\anaconda3\\lib\\site-packages\\pandas\\core\\frame.py:4509\u001b[0m, in \u001b[0;36mDataFrame._sanitize_column\u001b[1;34m(self, value)\u001b[0m\n\u001b[0;32m   4506\u001b[0m     \u001b[39mreturn\u001b[39;00m _reindex_for_setitem(value, \u001b[39mself\u001b[39m\u001b[39m.\u001b[39mindex)\n\u001b[0;32m   4508\u001b[0m \u001b[39mif\u001b[39;00m is_list_like(value):\n\u001b[1;32m-> 4509\u001b[0m     com\u001b[39m.\u001b[39;49mrequire_length_match(value, \u001b[39mself\u001b[39;49m\u001b[39m.\u001b[39;49mindex)\n\u001b[0;32m   4510\u001b[0m \u001b[39mreturn\u001b[39;00m sanitize_array(value, \u001b[39mself\u001b[39m\u001b[39m.\u001b[39mindex, copy\u001b[39m=\u001b[39m\u001b[39mTrue\u001b[39;00m, allow_2d\u001b[39m=\u001b[39m\u001b[39mTrue\u001b[39;00m)\n",
      "File \u001b[1;32mc:\\Users\\dalli\\anaconda3\\lib\\site-packages\\pandas\\core\\common.py:531\u001b[0m, in \u001b[0;36mrequire_length_match\u001b[1;34m(data, index)\u001b[0m\n\u001b[0;32m    527\u001b[0m \u001b[39m\u001b[39m\u001b[39m\"\"\"\u001b[39;00m\n\u001b[0;32m    528\u001b[0m \u001b[39mCheck the length of data matches the length of the index.\u001b[39;00m\n\u001b[0;32m    529\u001b[0m \u001b[39m\"\"\"\u001b[39;00m\n\u001b[0;32m    530\u001b[0m \u001b[39mif\u001b[39;00m \u001b[39mlen\u001b[39m(data) \u001b[39m!=\u001b[39m \u001b[39mlen\u001b[39m(index):\n\u001b[1;32m--> 531\u001b[0m     \u001b[39mraise\u001b[39;00m \u001b[39mValueError\u001b[39;00m(\n\u001b[0;32m    532\u001b[0m         \u001b[39m\"\u001b[39m\u001b[39mLength of values \u001b[39m\u001b[39m\"\u001b[39m\n\u001b[0;32m    533\u001b[0m         \u001b[39mf\u001b[39m\u001b[39m\"\u001b[39m\u001b[39m(\u001b[39m\u001b[39m{\u001b[39;00m\u001b[39mlen\u001b[39m(data)\u001b[39m}\u001b[39;00m\u001b[39m) \u001b[39m\u001b[39m\"\u001b[39m\n\u001b[0;32m    534\u001b[0m         \u001b[39m\"\u001b[39m\u001b[39mdoes not match length of index \u001b[39m\u001b[39m\"\u001b[39m\n\u001b[0;32m    535\u001b[0m         \u001b[39mf\u001b[39m\u001b[39m\"\u001b[39m\u001b[39m(\u001b[39m\u001b[39m{\u001b[39;00m\u001b[39mlen\u001b[39m(index)\u001b[39m}\u001b[39;00m\u001b[39m)\u001b[39m\u001b[39m\"\u001b[39m\n\u001b[0;32m    536\u001b[0m     )\n",
      "\u001b[1;31mValueError\u001b[0m: Length of values (24) does not match length of index (23)"
     ]
    }
   ],
   "source": [
    "# add values for hybrid sales to these values\n",
    "# https://www.bts.gov/content/gasoline-hybrid-and-electric-vehicle-sales\n",
    "hybrid = pd.Series([10, 20, 40, 50, 90, 210, 250, 350, 310, 290, 275, 260, 460, 540, 510, 430, 420, 450, 460, 490, 530, 980, 980])\n",
    "print(len(hybrid))\n",
    "sales['Hybrid'] = hybrid.values\n",
    "\n",
    "# add a column for electric sales\n",
    "electric = pd.Series([0, 0, 0, 0, 0, 0, 0, 0, 0, 0, 0, 10, 15, 40, 60, 70, 90, 105, 205, 230, 240, 460, 668, 810])\n",
    "print(len(electric))\n",
    "sales[\"Electric\"] = electric.values\n",
    "\n",
    "sales.head()"
   ]
  },
  {
   "cell_type": "code",
   "execution_count": 10,
   "metadata": {},
   "outputs": [
    {
     "data": {
      "image/png": "[encoded data removed]",
      "text/plain": [
       "<Figure size 800x500 with 1 Axes>"
      ]
     },
     "metadata": {},
     "output_type": "display_data"
    }
   ],
   "source": [
    "# what is the average change percentage for each year?\n",
    "change = sales['Combustion'].diff() / sales['Combustion']\n",
    "sales['del_Com'] = change.values\n",
    "change = sales['Hybrid'].diff() / sales['Hybrid']\n",
    "sales['del_Hybrid'] = change.values\n",
    "change = sales['Electric'].diff() / sales['Electric']\n",
    "sales['del_Elc'] = change.values\n",
    "\n",
    "# plot sales data\n",
    "plt.figure(figsize=(8, 5))\n",
    "plt.plot(sales['Year'], sales['Combustion'], label='Combustion')\n",
    "plt.plot(sales['Year'], sales['Hybrid'], label='Hybrid')\n",
    "plt.plot(sales['Year'], sales['Electric'], label='Electric')\n",
    "plt.xlabel('Year')\n",
    "plt.ylabel('Sales (thousands)')\n",
    "plt.title('Vehicle Sales')\n",
    "plt.legend()\n",
    "plt.show()"
   ]
  },
  {
   "cell_type": "code",
   "execution_count": 5,
   "metadata": {},
   "outputs": [
    {
     "data": {
      "text/plain": [
       "0.01"
      ]
     },
     "execution_count": 5,
     "metadata": {},
     "output_type": "execute_result"
    }
   ],
   "source": [
    "((17500 - 14000) / 20) / 17500"
   ]
  },
  {
   "cell_type": "code",
   "execution_count": 6,
   "metadata": {},
   "outputs": [
    {
     "name": "stdout",
     "output_type": "stream",
     "text": [
      "In 2011, 10 electric cars were sold.\n",
      "In 2011, 12741.8 combustion cars were sold.\n",
      "In 2011, 260 hybrid cars were sold.\n",
      "Electric cars made up 0.0008 of sales.\n",
      "Combustion cars made up 0.9792 of sales.\n",
      "Hybrid cars made up 0.02 of sales.\n",
      "\n",
      "\n",
      "In 2021, 460 electric cars were sold.\n",
      "In 2021, 14946.9 combustion cars were sold.\n",
      "In 2021, 980 hybrid cars were sold.\n",
      "Electric cars made up 0.0281 of sales.\n",
      "Combustion cars made up 0.9121 of sales.\n",
      "Hybrid cars made up 0.0598 of sales.\n"
     ]
    }
   ],
   "source": [
    "# what percent of cars were electric in 2011\n",
    "s2011 = sales.loc[sales['Year'] == 2011]\n",
    "e2011 = s2011['Electric'].values[0]\n",
    "c2011 = s2011['Combustion'].values[0]\n",
    "h2011 = s2011['Hybrid'].values[0]\n",
    "t2011 = e2011 + c2011 + h2011\n",
    "\n",
    "print('In 2011, ' + str(e2011) + ' electric cars were sold.')\n",
    "print('In 2011, ' + str(c2011) + ' combustion cars were sold.')\n",
    "print('In 2011, ' + str(h2011) + ' hybrid cars were sold.')\n",
    "print('Electric cars made up ' + str(round(e2011 / t2011, 4)) + ' of sales.')\n",
    "print('Combustion cars made up ' + str(round(c2011 / t2011, 4)) + ' of sales.')\n",
    "print('Hybrid cars made up ' + str(round(h2011 / t2011, 4)) + ' of sales.')\n",
    "\n",
    "s2021 = sales.loc[sales['Year'] == 2021]\n",
    "e2021 = s2021['Electric'].values[0]\n",
    "c2021 = s2021['Combustion'].values[0]\n",
    "h2021 = s2021['Hybrid'].values[0]\n",
    "t2021 = e2021 + c2021 + h2021\n",
    "\n",
    "print('\\n\\nIn 2021, ' + str(e2021) + ' electric cars were sold.')\n",
    "print('In 2021, ' + str(c2021) + ' combustion cars were sold.')\n",
    "print('In 2021, ' + str(h2021) + ' hybrid cars were sold.')\n",
    "print('Electric cars made up ' + str(round(e2021 / t2021, 4)) + ' of sales.')\n",
    "print('Combustion cars made up ' + str(round(c2021 / t2021, 4)) + ' of sales.')\n",
    "print('Hybrid cars made up ' + str(round(h2021 / t2021, 4)) + ' of sales.')"
   ]
  }
 ],
 "metadata": {
  "kernelspec": {
   "display_name": "Python 3",
   "language": "python",
   "name": "python3"
  },
  "language_info": {
   "codemirror_mode": {
    "name": "ipython",
    "version": 3
   },
   "file_extension": ".py",
   "mimetype": "text/x-python",
   "name": "python",
   "nbconvert_exporter": "python",
   "pygments_lexer": "ipython3",
   "version": "3.9.7"
  }
 },
 "nbformat": 4,
 "nbformat_minor": 2
}
